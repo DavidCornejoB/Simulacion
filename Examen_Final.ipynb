{
  "nbformat": 4,
  "nbformat_minor": 0,
  "metadata": {
    "colab": {
      "name": "Examen_Final.ipynb",
      "provenance": [],
      "authorship_tag": "ABX9TyOQwrS1q3P2Pd+JD0WC0CYs",
      "include_colab_link": true
    },
    "kernelspec": {
      "name": "python3",
      "display_name": "Python 3"
    },
    "language_info": {
      "name": "python"
    }
  },
  "cells": [
    {
      "cell_type": "markdown",
      "metadata": {
        "id": "view-in-github",
        "colab_type": "text"
      },
      "source": [
        "<a href=\"https://colab.research.google.com/github/DavidCornejoB/Simulacion/blob/main/Examen_Final.ipynb\" target=\"_parent\"><img src=\"https://colab.research.google.com/assets/colab-badge.svg\" alt=\"Open In Colab\"/></a>"
      ]
    },
    {
      "cell_type": "code",
      "execution_count": 1,
      "metadata": {
        "colab": {
          "base_uri": "https://localhost:8080/"
        },
        "id": "35T8E8uwG_ed",
        "outputId": "abd6595d-670a-4cec-fe22-04f918cbf729"
      },
      "outputs": [
        {
          "output_type": "stream",
          "name": "stdout",
          "text": [
            "Looking in indexes: https://pypi.org/simple, https://us-python.pkg.dev/colab-wheels/public/simple/\n",
            "Collecting simpy\n",
            "  Downloading simpy-4.0.1-py2.py3-none-any.whl (29 kB)\n",
            "Installing collected packages: simpy\n",
            "Successfully installed simpy-4.0.1\n"
          ]
        }
      ],
      "source": [
        "pip install simpy"
      ]
    },
    {
      "cell_type": "code",
      "source": [
        "import simpy\n",
        "import random\n",
        "from scipy import stats\n",
        "\n",
        "\n",
        "# VARIABLES:\n",
        "NUM_BUSES = 5\n",
        "NUM_PASAJEROS = 40\n",
        "\n",
        "INTERVALO = 3\n",
        "SALIDA_BUSES = 60\n",
        "TIEMPO_SIMULACION = 30\n",
        "\n",
        "LUGARES = [\"QUITO\", \"GUAYAQUIL\", \"CUENCA\", \"MACHALA\", \"AMBATO\", \"LOJA\"]\n",
        "PESOS = [0.2, 0.1, 0.3, 0.2, 0.1, 0.1]\n",
        "\n",
        "class Turismo(object):\n",
        "\n",
        "  def __init__(self, environment, num_buses, num_pasajeros):\n",
        "    self.env = environment\n",
        "  \n",
        "    # RECURSOS\n",
        "    self.buses = simpy.Resource(environment, num_buses)\n",
        "    self.pasajeros = simpy.Resource(environment, num_pasajeros)\n",
        "\n",
        "  def comprar_ticket(self, nombre):\n",
        "    normal = stats.norm(10, 2)\n",
        "    yield self.env.timeout(normal.rvs(1))\n",
        "    destino = random.choices(LUGARES, PESOS, k=1)\n",
        "    print(\"Persona: \", nombre, \" Ha comprado un ticket con destino a: \", destino)\n"
      ],
      "metadata": {
        "id": "enLrygTjHzg1"
      },
      "execution_count": 74,
      "outputs": []
    },
    {
      "cell_type": "code",
      "source": [
        "def generar_persona(env, nombre, turismo):\n",
        "\n",
        "  # GENERO:\n",
        "  prob_gen = bernoulli.rvs(1)\n",
        "  if(prob_gen == 1):\n",
        "    genero = \"Hombre\"\n",
        "  elif(prob_gen == 0):\n",
        "    genero = \"Mujer\"\n",
        "\n",
        "  # EDAD:\n",
        "  edad = stats.poisson.rvs(50)\n",
        "  print(\"Persona: \", nombre, \". Género: \", genero, \". Edad: \", edad)\n",
        "\n",
        "  #paso 1\n",
        "  print('Llega persona: %s a la hora %.2f.' % (nombre, env.now))\n",
        "\n",
        "  #paso 2\n",
        "  print('Persona comienza a comprar ticket: %s a la hora %.2f.' % (nombre, env.now))\n",
        "  yield env.process(turismo.comprar_ticket(nombre))\n",
        "  print('Compra: [%s] Comprado a las: %.2f.' % (nombre, env.now))\n",
        "\n",
        "  #paso 3\n",
        "  with turismo.pasajeros.request() as puesto:\n",
        "\n",
        "    yield puesto"
      ],
      "metadata": {
        "id": "j7B6eAbfKBqM"
      },
      "execution_count": 73,
      "outputs": []
    },
    {
      "cell_type": "code",
      "source": [
        "def ejecutar_simulacion(env, num_buses, num_pasajeros, intervalo):\n",
        "    turismo = Turismo(env, num_buses, num_pasajeros)\n",
        "\n",
        "    for i in range(5):\n",
        "        env.process(generar_persona(env, 'Persona-%d'%(i+1), turismo))\n",
        "    \n",
        "    while True:\n",
        "        i += 1\n",
        "        yield env.timeout(intervalo)\n",
        "        env.process(generar_persona(env, 'Persona-%d'%(i+1), turismo))\n"
      ],
      "metadata": {
        "id": "xAFE-AavKZyR"
      },
      "execution_count": 75,
      "outputs": []
    },
    {
      "cell_type": "code",
      "source": [
        "print('EMPRESA DE TURISMO')\n",
        "print('')\n",
        "random.seed(77)\n",
        "\n",
        "env=simpy.Environment()\n",
        "env.process(ejecutar_simulacion(env, NUM_BUSES, NUM_PASAJEROS, INTERVALO))\n",
        "\n",
        "# Ejecutamos el proceso durante el tiempo de simulacion\n",
        "env.run(until = TIEMPO_SIMULACION)"
      ],
      "metadata": {
        "colab": {
          "base_uri": "https://localhost:8080/"
        },
        "id": "uffAp78YPAsB",
        "outputId": "d2ce0867-b690-42ff-abc9-f138d3d4d60c"
      },
      "execution_count": 76,
      "outputs": [
        {
          "output_type": "stream",
          "name": "stdout",
          "text": [
            "EMPRESA DE TURISMO\n",
            "\n",
            "Persona:  Persona-1 . Género:  Hombre . Edad:  46\n",
            "Llega persona: Persona-1 a la hora 0.00.\n",
            "Persona comienza a comprar ticket: Persona-1 a la hora 0.00.\n",
            "Persona:  Persona-2 . Género:  Hombre . Edad:  55\n",
            "Llega persona: Persona-2 a la hora 0.00.\n",
            "Persona comienza a comprar ticket: Persona-2 a la hora 0.00.\n",
            "Persona:  Persona-3 . Género:  Mujer . Edad:  55\n",
            "Llega persona: Persona-3 a la hora 0.00.\n",
            "Persona comienza a comprar ticket: Persona-3 a la hora 0.00.\n",
            "Persona:  Persona-4 . Género:  Hombre . Edad:  49\n",
            "Llega persona: Persona-4 a la hora 0.00.\n",
            "Persona comienza a comprar ticket: Persona-4 a la hora 0.00.\n",
            "Persona:  Persona-5 . Género:  Hombre . Edad:  53\n",
            "Llega persona: Persona-5 a la hora 0.00.\n",
            "Persona comienza a comprar ticket: Persona-5 a la hora 0.00.\n",
            "Persona:  Persona-6 . Género:  Hombre . Edad:  50\n",
            "Llega persona: Persona-6 a la hora 3.00.\n",
            "Persona comienza a comprar ticket: Persona-6 a la hora 3.00.\n",
            "Persona:  Persona-7 . Género:  Mujer . Edad:  47\n",
            "Llega persona: Persona-7 a la hora 6.00.\n",
            "Persona comienza a comprar ticket: Persona-7 a la hora 6.00.\n",
            "Persona:  Persona-1  Ha comprado un ticket con destino a:  ['MACHALA']\n",
            "Compra: [Persona-1] Comprado a las: 6.89.\n",
            "Persona:  Persona-8 . Género:  Mujer . Edad:  57\n",
            "Llega persona: Persona-8 a la hora 9.00.\n",
            "Persona comienza a comprar ticket: Persona-8 a la hora 9.00.\n",
            "Persona:  Persona-2  Ha comprado un ticket con destino a:  ['CUENCA']\n",
            "Compra: [Persona-2] Comprado a las: 9.04.\n",
            "Persona:  Persona-6  Ha comprado un ticket con destino a:  ['GUAYAQUIL']\n",
            "Compra: [Persona-6] Comprado a las: 11.60.\n",
            "Persona:  Persona-5  Ha comprado un ticket con destino a:  ['AMBATO']\n",
            "Compra: [Persona-5] Comprado a las: 11.60.\n",
            "Persona:  Persona-9 . Género:  Hombre . Edad:  54\n",
            "Llega persona: Persona-9 a la hora 12.00.\n",
            "Persona comienza a comprar ticket: Persona-9 a la hora 12.00.\n",
            "Persona:  Persona-4  Ha comprado un ticket con destino a:  ['QUITO']\n",
            "Compra: [Persona-4] Comprado a las: 12.93.\n",
            "Persona:  Persona-10 . Género:  Hombre . Edad:  52\n",
            "Llega persona: Persona-10 a la hora 15.00.\n",
            "Persona comienza a comprar ticket: Persona-10 a la hora 15.00.\n",
            "Persona:  Persona-3  Ha comprado un ticket con destino a:  ['CUENCA']\n",
            "Compra: [Persona-3] Comprado a las: 15.83.\n",
            "Persona:  Persona-7  Ha comprado un ticket con destino a:  ['CUENCA']\n",
            "Compra: [Persona-7] Comprado a las: 15.89.\n",
            "Persona:  Persona-11 . Género:  Hombre . Edad:  54\n",
            "Llega persona: Persona-11 a la hora 18.00.\n",
            "Persona comienza a comprar ticket: Persona-11 a la hora 18.00.\n",
            "Persona:  Persona-8  Ha comprado un ticket con destino a:  ['MACHALA']\n",
            "Compra: [Persona-8] Comprado a las: 20.34.\n",
            "Persona:  Persona-12 . Género:  Mujer . Edad:  44\n",
            "Llega persona: Persona-12 a la hora 21.00.\n",
            "Persona comienza a comprar ticket: Persona-12 a la hora 21.00.\n",
            "Persona:  Persona-9  Ha comprado un ticket con destino a:  ['QUITO']\n",
            "Compra: [Persona-9] Comprado a las: 21.83.\n",
            "Persona:  Persona-10  Ha comprado un ticket con destino a:  ['MACHALA']\n",
            "Compra: [Persona-10] Comprado a las: 23.83.\n",
            "Persona:  Persona-13 . Género:  Hombre . Edad:  48\n",
            "Llega persona: Persona-13 a la hora 24.00.\n",
            "Persona comienza a comprar ticket: Persona-13 a la hora 24.00.\n",
            "Persona:  Persona-14 . Género:  Hombre . Edad:  53\n",
            "Llega persona: Persona-14 a la hora 27.00.\n",
            "Persona comienza a comprar ticket: Persona-14 a la hora 27.00.\n",
            "Persona:  Persona-11  Ha comprado un ticket con destino a:  ['CUENCA']\n",
            "Compra: [Persona-11] Comprado a las: 27.71.\n"
          ]
        }
      ]
    }
  ]
}