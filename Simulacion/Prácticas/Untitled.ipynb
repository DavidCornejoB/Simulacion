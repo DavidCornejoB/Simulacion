{
 "cells": [
  {
   "cell_type": "code",
   "execution_count": 1,
   "id": "c9c292ca",
   "metadata": {},
   "outputs": [],
   "source": [
    "import random"
   ]
  },
  {
   "cell_type": "code",
   "execution_count": 10,
   "id": "0f01362b",
   "metadata": {},
   "outputs": [
    {
     "name": "stdout",
     "output_type": "stream",
     "text": [
      "10\n"
     ]
    }
   ],
   "source": [
    "val = [0, 0, 0, 0, 0, 0, 0, 0, 0, 0, 0]\n",
    "rango = input()"
   ]
  },
  {
   "cell_type": "code",
   "execution_count": 11,
   "id": "c1a2f52d",
   "metadata": {},
   "outputs": [
    {
     "name": "stdout",
     "output_type": "stream",
     "text": [
      "4 \n",
      "\n",
      "9 \n",
      "\n",
      "3 \n",
      "\n",
      "9 \n",
      "\n",
      "6 \n",
      "\n",
      "9 \n",
      "\n",
      "7 \n",
      "\n",
      "6 \n",
      "\n",
      "2 \n",
      "\n"
     ]
    }
   ],
   "source": [
    "for i in range(1, int(rango)):\n",
    "    num1 = random.randint(1, 6) #DADO 1: RANDOM DEL 1 AL 6\n",
    "    num2 = random.randint(1, 6) #DADO 2: RANDOM DEL 1 AL 6\n",
    "    print(num1 + num2, \"\\n\")\n",
    "    \n",
    "    if(num1 + num2 == 2):\n",
    "        val[0] += 1\n",
    "    \n",
    "    if(num1 + num2 == 3):\n",
    "        val[1] += 1\n",
    "    \n",
    "    if(num1 + num2 == 4):\n",
    "        val[2] += 1\n",
    "    \n",
    "    if(num1 + num2 == 5):\n",
    "        val[3] += 1\n",
    "    \n",
    "    if(num1 + num2 == 6):\n",
    "        val[4] += 1\n",
    "    \n",
    "    if(num1 + num2 == 7):\n",
    "        val[5] += 1\n",
    "    \n",
    "    if(num1 + num2 == 8):\n",
    "        val[6] += 1\n",
    "    \n",
    "    if(num1 + num2 == 9):\n",
    "        val[7] += 1\n",
    "    \n",
    "    if(num1 + num2 == 10):\n",
    "        val[8] += 1\n",
    "    \n",
    "    if(num1 + num2 == 11):\n",
    "        val[9] += 1\n",
    "    \n",
    "    if(num1 + num2 == 12):\n",
    "        val[10] += 1\n",
    "    "
   ]
  },
  {
   "cell_type": "code",
   "execution_count": 12,
   "id": "e1851549",
   "metadata": {},
   "outputs": [
    {
     "name": "stdout",
     "output_type": "stream",
     "text": [
      "1\n",
      "1\n",
      "1\n",
      "0\n",
      "2\n",
      "1\n",
      "0\n",
      "3\n",
      "0\n",
      "0\n",
      "0\n"
     ]
    },
    {
     "data": {
      "image/png": "[encoded data removed]",
      "text/plain": [
       "<Figure size 432x288 with 1 Axes>"
      ]
     },
     "metadata": {
      "needs_background": "light"
     },
     "output_type": "display_data"
    }
   ],
   "source": [
    "print(val[0])\n",
    "print(val[1])\n",
    "print(val[2])\n",
    "print(val[3])\n",
    "print(val[4])\n",
    "print(val[5])\n",
    "print(val[6])\n",
    "print(val[7])\n",
    "print(val[8])\n",
    "print(val[9])\n",
    "print(val[10])\n",
    "\n",
    "#GRAFICA:\n",
    "import matplotlib.pyplot as plt\n",
    "\n",
    "fig, ax = plt.subplots()\n",
    "ax.bar([2, 3, 4, 5, 6, 7, 8, 9, 10, 11, 12], val)\n",
    "plt.show()\n"
   ]
  },
  {
   "cell_type": "code",
   "execution_count": null,
   "id": "8e9ee711",
   "metadata": {},
   "outputs": [],
   "source": []
  }
 ],
 "metadata": {
  "kernelspec": {
   "display_name": "Python 3 (ipykernel)",
   "language": "python",
   "name": "python3"
  },
  "language_info": {
   "codemirror_mode": {
    "name": "ipython",
    "version": 3
   },
   "file_extension": ".py",
   "mimetype": "text/x-python",
   "name": "python",
   "nbconvert_exporter": "python",
   "pygments_lexer": "ipython3",
   "version": "3.9.7"
  }
 },
 "nbformat": 4,
 "nbformat_minor": 5
}
